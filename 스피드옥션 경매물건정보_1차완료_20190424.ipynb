{
 "cells": [
  {
   "cell_type": "markdown",
   "metadata": {},
   "source": [
    "## 경매물건정보 크롤링\n",
    "  - 일자별 종결된 경매물건 list\n",
    "  - 건물 등기 사항(권리분석용)\n",
    "  \n",
    "### 크롤링 사이트\n",
    "http://www.speedauction.co.kr/\n",
    " - 크롤링 참고사이트: https://book.coalastudy.com/data-crawling/week-6/stage-2\n",
    " \n",
    "### 방법\n",
    " 1. 로그인 -> 상단메뉴 '경매검색' 페이지 이동\n",
    " 2. '법원별경매' -> 서울 법원리스트 탐색\n",
    " 3. 용도검색 '상업용' / 매각기일 2018.7.1 ~ 2018.12.31 / 150개씩 선택 검색\n",
    " 4. 하단 물건정보 리스트 및 상세조회 팝업창 크롤링"
   ]
  },
  {
   "cell_type": "code",
   "execution_count": 447,
   "metadata": {
    "ExecuteTime": {
     "end_time": "2019-04-18T05:24:16.916001Z",
     "start_time": "2019-04-18T05:24:16.905001Z"
    }
   },
   "outputs": [
    {
     "name": "stdout",
     "output_type": "stream",
     "text": [
      "아래 폴더에 chromedriver 파일 있어야 해요~\n"
     ]
    },
    {
     "data": {
      "text/plain": [
       "'C:\\\\Users\\\\student\\\\Desktop\\\\Ant_Project\\\\경매프로젝트\\\\크롤링 소스코드'"
      ]
     },
     "execution_count": 447,
     "metadata": {},
     "output_type": "execute_result"
    }
   ],
   "source": [
    "import bs4\n",
    "import requests\n",
    "import time\n",
    "from selenium import webdriver\n",
    "from selenium.webdriver.support.ui import Select\n",
    "from selenium.webdriver.common.keys import Keys\n",
    "\n",
    "from selenium.webdriver.common.action_chains import ActionChains\n",
    "\n",
    "import pandas as pd\n",
    "\n",
    "import warnings\n",
    "warnings.filterwarnings('ignore')           # 성가신 warning은 off 해준다. \n",
    "\n",
    "import os\n",
    "print(\"아래 폴더에 chromedriver 파일 있어야 해요~\")\n",
    "os.getcwd()  # 해당폴더에 chromedriver 파일 있어야함."
   ]
  },
  {
   "cell_type": "markdown",
   "metadata": {},
   "source": [
    "## 함수 선언"
   ]
  },
  {
   "cell_type": "code",
   "execution_count": 448,
   "metadata": {
    "ExecuteTime": {
     "end_time": "2019-04-18T04:13:52.622001Z",
     "start_time": "2019-04-18T04:13:52.616001Z"
    }
   },
   "outputs": [],
   "source": [
    "# 로그인 \n",
    "def login(login_id=\"\", login_pw=\"\"):\n",
    "    # 접속할 페이지의 주소\n",
    "    url = 'http://www.speedauction.co.kr/v3/M_etc/customercenter/members.htm'\n",
    "    # 크롬브라우져 해당 페이지 접속\n",
    "    driver.get(url)\n",
    "    \n",
    "    # 로그인 id/pw 입력\n",
    "    if login_id == \"\":\n",
    "        login_id = input('아이디 입력: ')\n",
    "    if login_pw == \"\":    \n",
    "        login_pw = input('패스워드 입력: ')\n",
    "    \n",
    "    driver.refresh() # 새로고침\n",
    "    input_id = driver.find_element_by_name('id')\n",
    "    input_id.send_keys(login_id)\n",
    "\n",
    "    input_pw = driver.find_element_by_name('pw')\n",
    "    input_pw.send_keys(login_pw)\n",
    "\n",
    "    # 로그인 버튼 클릭\n",
    "    # TAB = '\\ue004'\n",
    "    # input_pw.send_keys(Keys.TAB)  # Tab키를 통해 로그인버튼으로 이동\n",
    "    login_btn = driver.find_element_by_css_selector('body > table > tbody > tr:nth-child(2) > td > table > tbody > tr > td > table > tbody > tr:nth-child(2) > td > table > tbody > tr > td:nth-child(3) > table > tbody > tr:nth-child(4) > td > table > tbody > tr:nth-child(2) > td > table > tbody > tr:nth-child(2) > td > table > tbody > tr > td:nth-child(1) > table > tbody > tr > td > table > tbody > tr:nth-child(1) > td > table > tbody > tr > td > table > tbody > tr:nth-child(3) > td > table > tbody > tr > td:nth-child(3) > input[type=\"image\"]')\n",
    "    login_btn.click()\n",
    "    \n",
    "# 검색 기간\n",
    "def inputSearchPeriod(startYmd=\"\", endYmd=\"\"):    \n",
    "    if startYmd == \"\":\n",
    "        startYmd = input('검색일자(시작일자YYYYmmdd): ')\n",
    "        endYmd = input('검색일자(종료일자YYYYmmdd): ')\n",
    "    \n",
    "    input_startYmd = driver.find_element_by_css_selector('#sell_yyyymmdd_ss')\n",
    "    input_startYmd.clear()\n",
    "    input_startYmd.send_keys(startYmd)\n",
    "    input_endYmd = driver.find_element_by_css_selector('#sell_yyyymmdd_ee')\n",
    "    input_endYmd.clear()\n",
    "    input_endYmd.send_keys(endYmd)"
   ]
  },
  {
   "cell_type": "markdown",
   "metadata": {},
   "source": [
    "## 로그인 (id/pw 입력)"
   ]
  },
  {
   "cell_type": "code",
   "execution_count": 449,
   "metadata": {},
   "outputs": [],
   "source": [
    "#웹 드라이버 가동\n",
    "driver = webdriver.Chrome('chromedriver')"
   ]
  },
  {
   "cell_type": "code",
   "execution_count": 450,
   "metadata": {},
   "outputs": [],
   "source": [
    "# 로그인 실행\n",
    "login('gogo4845', 'wjsxodJT48!')\n",
    "\n",
    "# 팝업창 닫기\n",
    "driver.switch_to_window(driver.window_handles[-1])\n",
    "driver.close()\n",
    "# 활성창 변경\n",
    "driver.switch_to_window(driver.window_handles[-1])"
   ]
  },
  {
   "cell_type": "markdown",
   "metadata": {},
   "source": [
    "## 경매검색 페이지 접속\n",
    " - 검색 상세조건 설정"
   ]
  },
  {
   "cell_type": "code",
   "execution_count": 451,
   "metadata": {},
   "outputs": [
    {
     "name": "stdout",
     "output_type": "stream",
     "text": [
      "http://www.speedauction.co.kr/v3/?maintab=1&lefttab=2&setno=&chgcnt=0&salemoney=\n"
     ]
    }
   ],
   "source": [
    "# 활성창 확인\n",
    "driver.switch_to_window(driver.window_handles[-1])\n",
    "print( driver.current_url )\n",
    "\n",
    "# 경매 검색 메뉴 클릭\n",
    "search_tag = driver.find_element_by_css_selector('body > table > tbody > tr:nth-child(2) > td > table > tbody > tr > td > table > tbody > tr > td:nth-child(2) > table > tbody > tr:nth-child(2) > td > table > tbody > tr:nth-child(1) > td > table > tbody > tr:nth-child(1) > td:nth-child(1)')\n",
    "search_tag.click()\n",
    "\n",
    "# 상업용 체크박스 클릭\n",
    "commer_checkbox_tag = driver.find_element_by_css_selector('#trYongdo > td > table > tbody > tr:nth-child(5) > td:nth-child(1) > font > strong > input[type=\"checkbox\"]')\n",
    "commer_checkbox_tag.click()\n",
    "\n",
    "# 서울지법 전체 선택\n",
    "input_court = driver.find_element_by_css_selector('body > table > tbody > tr:nth-child(2) > td > table > tbody > tr > td > table > tbody > tr:nth-child(2) > td > table > tbody > tr > td:nth-child(3) > table > tbody > tr:nth-child(2) > td > table > tbody > tr:nth-child(3) > td > table > tbody > tr:nth-child(2) > td > table > tbody > tr:nth-child(2) > td > table > tbody > tr:nth-child(2) > td:nth-child(2) > select:nth-child(1)')\n",
    "court_select_tag = Select(input_court)\n",
    "court_select_tag.select_by_value('A00')\n",
    "\n",
    "# 검색일자 입력\n",
    "# 매각기일 2018.7.1 ~ 2018.12.31\n",
    "inputSearchPeriod('20180701', '20181231')\n",
    "\n",
    "# 검색\n",
    "search = driver.find_element_by_css_selector('body > table > tbody > tr:nth-child(2) > td > table > tbody > tr > td > table > tbody > tr:nth-child(2) > td > table > tbody > tr > td:nth-child(3) > table > tbody > tr:nth-child(2) > td > table > tbody > tr:nth-child(3) > td > table > tbody > tr:nth-child(2) > td > table > tbody > tr:nth-child(3) > td > img')\n",
    "search.click()\n",
    "\n",
    "# 한페이지 목록갯수 설정 25/50/100/150개씩\n",
    "list_cnt_per_page = 100\n",
    "num_of_list = driver.find_element_by_css_selector('body > table > tbody > tr:nth-child(2) > td > table > tbody > tr > td > table > tbody > tr:nth-child(2) > td > table > tbody > tr > td:nth-child(3) > table > tbody > tr:nth-child(1) > td > table > tbody > tr:nth-child(12) > td > table > tbody > tr > td:nth-child(3) > select')\n",
    "num_of_list_tag = Select(num_of_list)\n",
    "num_of_list_tag.select_by_value(f'{list_cnt_per_page}')\n",
    "\n",
    "# 용도검색 '상업용' combo 재 선택\n",
    "# 0:전체\n",
    "# H:주거용\n",
    "# S:상업용\n",
    "# L:토지\n",
    "# E:기타부동산\n",
    "# C:차량외\n",
    "use_combo = driver.find_element_by_css_selector('#trSrc > td > table > tbody > tr:nth-child(2) > td > table > tbody > tr:nth-child(1) > td > table > tbody > tr:nth-child(5) > td:nth-child(2) > select')\n",
    "select_combo = Select(use_combo)\n",
    "select_combo.select_by_value('S')"
   ]
  },
  {
   "cell_type": "code",
   "execution_count": 452,
   "metadata": {},
   "outputs": [
    {
     "name": "stdout",
     "output_type": "stream",
     "text": [
      "기간: 2018.07.01~2018.12.31\n",
      "조회건수: 332\n",
      "페이지수: 4\n"
     ]
    }
   ],
   "source": [
    "# 조회건수 및 검색기간 확인\n",
    "chk_value = driver.find_element_by_css_selector('body > table > tbody > tr:nth-child(2) > td > table > tbody > tr > td > table > tbody > tr:nth-child(2) > td > table > tbody > tr > td:nth-child(3) > table > tbody > tr:nth-child(1) > td > table > tbody > tr:nth-child(6) > td > table > tbody > tr > td:nth-child(2) > table > tbody > tr:nth-child(2) > td:nth-child(1)')\n",
    "# print( chk_value.text.split(' ') )\n",
    "total_cnt = chk_value.text.split(' ')[3].replace(\"건\", \"\")\n",
    "period = chk_value.text.split(' ')[4].replace(\"(\", \"\").replace(\")\", \"\")\n",
    "total_cnt = int(total_cnt)\n",
    "print('기간:', period )\n",
    "print('조회건수:', total_cnt)\n",
    "\n",
    "# 페이지 수 계산 ( 조회건수 / 페이지당 목록수 )\n",
    "total_page_cnt = total_cnt / list_cnt_per_page\n",
    "if total_cnt % list_cnt_per_page > 0:\n",
    "        total_page_cnt += 1\n",
    "total_page_cnt = int(total_page_cnt)\n",
    "print('페이지수:', total_page_cnt )"
   ]
  },
  {
   "cell_type": "code",
   "execution_count": null,
   "metadata": {},
   "outputs": [
    {
     "name": "stdout",
     "output_type": "stream",
     "text": [
      "현재 페이지: 1\n",
      "페이지당 목록수: 100\n"
     ]
    }
   ],
   "source": [
    "# 파일 최초 저장여부\n",
    "chk = False\n",
    "\n",
    "# 상세화면 로딩 시간이 걸리므로 딜레이 줌.\n",
    "delay_time = 10\n",
    "\n",
    "# 페이지수 만큼 반복 total_page_cnt\n",
    "for page in range(total_page_cnt):\n",
    "    \n",
    "    # 수집항목 정의\n",
    "    data_dic = {\n",
    "        'Auction_class' : [],     #경매구분\n",
    "        'Date_of_sale' : [],      #매각기일\n",
    "        'Address' : [],           #주소\n",
    "        'Address_loadname' : [],  #도로명주소\n",
    "        'Post_number' : [],       #우편번호\n",
    "        'Usage' : [],             #용도\n",
    "        #'Usage_on_paper' : [],    #대장용도\n",
    "        'Land_area' : [],         #대지권\n",
    "        'Exclusive_area' : [],    #전용면적\n",
    "        'For_sale' : [],          #매각대상\n",
    "        'Date_of_reciep' : [],    #사건접수날짜\n",
    "        'Price' : [],             #감정가\n",
    "        'Lowest_price' : [],      #최저가\n",
    "        'Billing_amount' : [],    #청구금액\n",
    "        'Release_Date' : [],      #개시결정\n",
    "        'Auction_Status' : [],    #기일현황\n",
    "        'Building_Status' : [],   #물건현황,토지이용계획\n",
    "        'Evaluation_Status' : [], #감정평가 현황\n",
    "        'Tenant_status' : [],     #임차인/대항력여부\n",
    "        'Registration' :[],       #등기사항,소멸여부\n",
    "        'detail_link' :[]         #상세페이지 링크\n",
    "    }\n",
    "    \n",
    "    print('현재 페이지:', page+1 )\n",
    "    \n",
    "    # 2페이지부터 클릭\n",
    "    if page > 0:\n",
    "        # 페이지 클릭\n",
    "        page_idx = page*2 + 1\n",
    "        page_btn = driver.find_element_by_css_selector(f'body > table > tbody > tr:nth-child(2) > td > table > tbody > tr > td > table > tbody > tr:nth-child(2) > td > table > tbody > tr > td:nth-child(3) > table > tbody > tr:nth-child(1) > td > table > tbody > tr:nth-child(16) > td > a:nth-child({page_idx})')\n",
    "        page_btn.click()\n",
    "\n",
    "    # 페이지당 목록수 만큼 반복\n",
    "    if total_cnt < list_cnt_per_page:\n",
    "        loop_cnt_per_page = total_cnt\n",
    "    else:\n",
    "        loop_cnt_per_page = list_cnt_per_page\n",
    "    loop_cnt_per_page = int(loop_cnt_per_page)    \n",
    "    print('페이지당 목록수:', loop_cnt_per_page)\n",
    "    \n",
    "    for idx in range(loop_cnt_per_page):\n",
    "        list_idx = idx+3\n",
    "        \n",
    "        # 물건 클릭\n",
    "        incident = driver.find_element_by_css_selector(f'body > table > tbody > tr:nth-child(2) > td > table > tbody > tr > td > table > tbody > tr:nth-child(2) > td > table > tbody > tr > td:nth-child(3) > table > tbody > tr:nth-child(1) > td > table > tbody > tr:nth-child(13) > td > table > tbody > tr:nth-child({list_idx}) > td:nth-child(4)')\n",
    "        incident.click()\n",
    "        # 상세페이지 활성창 변경\n",
    "        driver.switch_to_window(driver.window_handles[-1])\n",
    "        # 상세페이지 링크\n",
    "        detail_link_str = driver.current_url\n",
    "        \n",
    "        # 화면 로딩 시간이 걸리므로 딜레이 줌.\n",
    "        time.sleep(delay_time)\n",
    "        \n",
    "        soup = bs4.BeautifulSoup(driver.page_source)\n",
    "        # print( soup.prettify() )\n",
    "        strong_tag = soup.find_all('strong')\n",
    "        # '정정공고','변경공고' 항목에 따라 tr태그 구조가 바뀜\n",
    "        jj_none = True  # 항목 여부 (없으면 skip~)\n",
    "        for jj_tag in strong_tag:\n",
    "        #     print( jj_tag.text.strip() )\n",
    "            if jj_tag.text.strip() == \"정정공고\":\n",
    "                jj_none = False\n",
    "            elif jj_tag.text.strip() == \"변경공고\":\n",
    "                jj_none = False\n",
    "                \n",
    "        # select 태그가 있으면  '물번' 항목여부\n",
    "        # select_tag = False\n",
    "        # tag = soup.find_all('select')\n",
    "        # if len(tag) > 0:\n",
    "        #     select_tag = True\n",
    "        \n",
    "        # 화면 로딩 시간이 걸리므로 딜레이 줌.\n",
    "        # time.sleep(delay_time)\n",
    "        \n",
    "        # 항목별 tag 가져오기\n",
    "        Auction_class_tag = driver.find_element_by_css_selector('#printArea > tbody > tr > td > table > tbody > tr:nth-child(7) > td > table > tbody > tr > td:nth-child(1) > font > strong')\n",
    "        # print( Auction_class_tag.text )\n",
    "        Date_of_sale_tag = driver.find_element_by_css_selector('#tdbx00 > table > tbody > tr > td:nth-child(2) > b')\n",
    "        # print( Date_of_sale_tag.text )\n",
    "        Address_tag = driver.find_element_by_css_selector('#printArea > tbody > tr > td > table > tbody > tr:nth-child(8) > td > table > tbody > tr:nth-child(1) > td:nth-child(2) > table > tbody > tr > td > font > b')\n",
    "        # print( Address_tag.text )        \n",
    "        Address_loadname_tag = driver.find_element_by_css_selector('#printArea > tbody > tr > td > table > tbody > tr:nth-child(8) > td > table > tbody > tr:nth-child(1) > td:nth-child(2) > table > tbody > tr > td')\n",
    "        # print( Address_loadname_tag.text )\n",
    "        Post_number_tag = driver.find_element_by_css_selector('#printArea > tbody > tr > td > table > tbody > tr:nth-child(8) > td > table > tbody > tr:nth-child(1) > td:nth-child(2) > table > tbody > tr > td > font')\n",
    "        # print( Post_number_tag.text )\n",
    "        Usage_tag = driver.find_element_by_css_selector('#printArea > tbody > tr > td > table > tbody > tr:nth-child(8) > td > table > tbody > tr:nth-child(2) > td:nth-child(2)')\n",
    "        # print( Usage_tag.text )\n",
    "        # Usage_on_paper_tag = driver.find_element_by_css_selector('#printArea > tbody > tr > td > table > tbody > tr:nth-child(8) > td > table > tbody > tr:nth-child(3) > td:nth-child(2)')\n",
    "        # print( Usage_on_paper_tag.text )\n",
    "        Land_area_tag = driver.find_element_by_css_selector('#printArea > tbody > tr > td > table > tbody > tr:nth-child(8) > td > table > tbody > tr:nth-child(3) > td:nth-child(2)')\n",
    "        # print( Land_area_tag.text )\n",
    "        Exclusive_area_tag = driver.find_element_by_css_selector('#printArea > tbody > tr > td > table > tbody > tr:nth-child(8) > td > table > tbody > tr:nth-child(4) > td:nth-child(2)')\n",
    "        For_sale_tag = driver.find_element_by_css_selector('#printArea > tbody > tr > td > table > tbody > tr:nth-child(8) > td > table > tbody > tr:nth-child(5) > td:nth-child(4)')\n",
    "        Date_of_reciep_tag = driver.find_element_by_css_selector('#printArea > tbody > tr > td > table > tbody > tr:nth-child(8) > td > table > tbody > tr:nth-child(5) > td:nth-child(2)')\n",
    "        Price_tag = driver.find_element_by_css_selector('#tdbx01')\n",
    "        Lowest_price_tag = driver.find_element_by_css_selector('#tdbx02')\n",
    "        Billing_amount_tag = driver.find_element_by_css_selector('#printArea > tbody > tr > td > table > tbody > tr:nth-child(8) > td > table > tbody > tr:nth-child(5) > td:nth-child(6)')\n",
    "        Release_Date_tag = driver.find_element_by_css_selector('#printArea > tbody > tr > td > table > tbody > tr:nth-child(8) > td > table > tbody > tr:nth-child(6) > td:nth-child(6)')\n",
    "        Auction_Status_tag = driver.find_element_by_css_selector('#tbl_glist')\n",
    "        # print( Auction_Status_tag.text )\n",
    "\n",
    "        # print( jj_none )\n",
    "        # '정정공고' '변경공고' 항목이 없으면\n",
    "        if jj_none == True:\n",
    "            Building_Status_tag = driver.find_element_by_css_selector('#printArea > tbody > tr > td > table > tbody > tr:nth-child(17) > td > table > tbody > tr > td > table > tbody > tr:nth-child(2) > td:nth-child(1) > table > tbody > tr:nth-child(1) > td > table > tbody')\n",
    "            # print( Building_Status_tag.text )\n",
    "            Evaluation_Status_tag = driver.find_element_by_css_selector('#printArea > tbody > tr > td > table > tbody > tr:nth-child(17) > td > table > tbody > tr > td > table > tbody > tr:nth-child(2) > td:nth-child(1) > table > tbody > tr:nth-child(2) > td > table > tbody > tr > td > table')        \n",
    "            # print( Evaluation_Status_tag.text )    \n",
    "            Tenant_status_tag = driver.find_element_by_css_selector('#printArea > tbody > tr > td > table > tbody > tr:nth-child(17) > td > table > tbody > tr > td > table > tbody > tr:nth-child(2) > td:nth-child(3)')\n",
    "            # print( Tenant_status_tag.text )\n",
    "            Registration_tag = driver.find_element_by_css_selector('#printArea > tbody > tr > td > table > tbody > tr:nth-child(17) > td > table > tbody > tr > td > table > tbody > tr:nth-child(2) > td:nth-child(4)')\n",
    "            # print( Registration_tag.text )\n",
    "        # 항목이 있으면\n",
    "        else:\n",
    "            Building_Status_tag = driver.find_element_by_css_selector('#printArea > tbody > tr > td > table > tbody > tr:nth-child(18) > td > table > tbody > tr > td > table > tbody > tr:nth-child(2) > td:nth-child(1) > table > tbody > tr:nth-child(1) > td > table')\n",
    "            Evaluation_Status_tag = driver.find_element_by_css_selector('#printArea > tbody > tr > td > table > tbody > tr:nth-child(18) > td > table > tbody > tr > td > table > tbody > tr:nth-child(2) > td:nth-child(1) > table > tbody > tr:nth-child(2) > td > table > tbody > tr > td > table > tbody')\n",
    "            Tenant_status_tag = driver.find_element_by_css_selector('#printArea > tbody > tr > td > table > tbody > tr:nth-child(18) > td > table > tbody > tr > td > table > tbody > tr:nth-child(2) > td:nth-child(3) > table > tbody')\n",
    "            Registration_tag = driver.find_element_by_css_selector('#printArea > tbody > tr > td > table > tbody > tr:nth-child(18) > td > table > tbody > tr > td > table > tbody > tr:nth-child(2) > td:nth-child(4) > table > tbody') \n",
    "        \n",
    "        # 딕셔너리에 담기\n",
    "        data_dic['Auction_class'].append(Auction_class_tag.text.split('(')[1].split(')')[0])\n",
    "        data_dic['Date_of_sale'].append(Date_of_sale_tag.text.split(' ')[0])\n",
    "        data_dic['Address'].append(Address_tag.text.strip())\n",
    "        data_dic['Address_loadname'].append(Address_loadname_tag.text.strip())\n",
    "        data_dic['Post_number'].append(Post_number_tag.text.split(')')[0].split('(')[1])\n",
    "        data_dic['Usage'].append(Usage_tag.text.strip())\n",
    "        # data_dic['Usage_on_paper'].append(Usage_on_paper_tag.text.strip())\n",
    "        data_dic['Land_area'].append(Land_area_tag.text.strip())\n",
    "        data_dic['Exclusive_area'].append(Exclusive_area_tag.text.strip())\n",
    "        data_dic['For_sale'].append(For_sale_tag.text.strip())\n",
    "        data_dic['Date_of_reciep'].append(Date_of_reciep_tag.text.strip())\n",
    "        data_dic['Price'].append(Price_tag.text)\n",
    "        data_dic['Lowest_price'].append(Lowest_price_tag.text.strip())\n",
    "        data_dic['Billing_amount'].append(Billing_amount_tag.text.strip())\n",
    "        data_dic['Release_Date'].append(Release_Date_tag.text.strip())\n",
    "        data_dic['Auction_Status'].append(Auction_Status_tag.text.strip())\n",
    "        data_dic['Building_Status'].append(Building_Status_tag.text.strip())\n",
    "        data_dic['Evaluation_Status'].append(Evaluation_Status_tag.text.strip())\n",
    "        data_dic['Tenant_status'].append(Tenant_status_tag.text.strip())\n",
    "        data_dic['Registration'].append(Registration_tag.text.strip())\n",
    "        data_dic['detail_link'].append(detail_link_str.strip())\n",
    "        # print( data_dic )\n",
    "        \n",
    "        print(page+1, '페이지 ', idx+1,'/',loop_cnt_per_page, '수집 완료' )\n",
    "        # 상세페이지 크롤링 완료후 닫기\n",
    "        driver.close()\n",
    "        # 경매물건 list로 활성창 변경\n",
    "        driver.switch_to_window(driver.window_handles[-1])\n",
    "    \n",
    "    # 페이지별 데이터프레임 저장\n",
    "    df = pd.DataFrame.from_dict(data_dic)\n",
    "\n",
    "    title = '상가경매물건(' + period + ').csv'\n",
    "\n",
    "    if chk==False:\n",
    "        chk = True\n",
    "        df.columns = ['경매구분', '매각기일','주소','도로명주소','우편번호','용도','대지권','전용면적','매각대상','사건접수날짜','감정가','최저가','청구금액','개시결정','기일현황','물건현황_토지이용계획','감정평가현황','임차인_대항력여부','등기사항_소멸여부','상세페이지링크']\n",
    "        df.to_csv(title, index=False, encoding='utf-8-sig')\n",
    "    else:\n",
    "        df.to_csv(title, index=False, encoding='utf-8-sig', mode='a', header=False )\n",
    "    print(page+1, '페이지 엑셀저장 완료')\n",
    "          \n",
    "print(\"수집 완료~!!!\")        "
   ]
  },
  {
   "cell_type": "code",
   "execution_count": null,
   "metadata": {},
   "outputs": [],
   "source": []
  }
 ],
 "metadata": {
  "kernelspec": {
   "display_name": "Python 3",
   "language": "python",
   "name": "python3"
  },
  "language_info": {
   "codemirror_mode": {
    "name": "ipython",
    "version": 3
   },
   "file_extension": ".py",
   "mimetype": "text/x-python",
   "name": "python",
   "nbconvert_exporter": "python",
   "pygments_lexer": "ipython3",
   "version": "3.6.5"
  },
  "toc": {
   "base_numbering": 1,
   "nav_menu": {},
   "number_sections": true,
   "sideBar": true,
   "skip_h1_title": false,
   "title_cell": "Table of Contents",
   "title_sidebar": "Contents",
   "toc_cell": false,
   "toc_position": {},
   "toc_section_display": true,
   "toc_window_display": false
  }
 },
 "nbformat": 4,
 "nbformat_minor": 2
}
