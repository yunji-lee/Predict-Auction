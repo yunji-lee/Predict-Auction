{
 "cells": [
  {
   "cell_type": "code",
   "execution_count": 2,
   "metadata": {
    "ExecuteTime": {
     "end_time": "2019-04-19T07:15:57.457635Z",
     "start_time": "2019-04-19T07:15:56.997635Z"
    }
   },
   "outputs": [],
   "source": [
    "import os\n",
    "import pandas as pd\n",
    "import numpy as np\n",
    "import csv"
   ]
  },
  {
   "cell_type": "code",
   "execution_count": 3,
   "metadata": {
    "ExecuteTime": {
     "end_time": "2019-04-19T07:15:57.462635Z",
     "start_time": "2019-04-19T07:15:57.458635Z"
    }
   },
   "outputs": [],
   "source": [
    "os.chdir(r'C:\\Users\\student\\Desktop\\개미\\실거래가\\내국인_생활인구')"
   ]
  },
  {
   "cell_type": "code",
   "execution_count": 4,
   "metadata": {
    "ExecuteTime": {
     "end_time": "2019-04-19T07:16:04.099635Z",
     "start_time": "2019-04-19T07:15:59.698635Z"
    }
   },
   "outputs": [],
   "source": [
    "df7 = pd.read_csv('7.csv',engine='python', header = 'infer', encoding = 'euc-kr')\n",
    "df8 = pd.read_csv('8.csv',engine='python', header = 'infer', encoding = 'euc-kr')\n",
    "df9 = pd.read_csv('9.csv',engine='python', header = 'infer', encoding = 'euc-kr')\n",
    "df10 = pd.read_csv('10.csv',engine='python', header = 'infer', encoding = 'euc-kr')\n",
    "df11 = pd.read_csv('11.csv',engine='python', header = 'infer', encoding = 'euc-kr')\n",
    "df12 = pd.read_csv('12.csv',engine='python', header = 'infer', encoding = 'euc-kr')"
   ]
  },
  {
   "cell_type": "code",
   "execution_count": 5,
   "metadata": {
    "ExecuteTime": {
     "end_time": "2019-04-19T07:16:36.100635Z",
     "start_time": "2019-04-19T07:16:36.060635Z"
    }
   },
   "outputs": [],
   "source": [
    "df = pd.concat([df7,df8,df9,df10,df11,df12])"
   ]
  },
  {
   "cell_type": "code",
   "execution_count": 6,
   "metadata": {
    "ExecuteTime": {
     "end_time": "2019-04-19T07:16:43.455635Z",
     "start_time": "2019-04-19T07:16:43.434635Z"
    }
   },
   "outputs": [
    {
     "data": {
      "text/plain": [
       "(1709568, 1)"
      ]
     },
     "execution_count": 6,
     "metadata": {},
     "output_type": "execute_result"
    }
   ],
   "source": [
    "df.shape"
   ]
  },
  {
   "cell_type": "code",
   "execution_count": 7,
   "metadata": {
    "ExecuteTime": {
     "end_time": "2019-04-19T07:19:43.829635Z",
     "start_time": "2019-04-19T07:19:38.300635Z"
    }
   },
   "outputs": [],
   "source": [
    "df.columns = ['col']\n",
    "df[['기준일ID','시간대구분', '행정동코드', '총생활인구수']] = df.col.str.split(\"\\t\",expand=True)\n",
    "df = df.drop(['col'], axis=1)"
   ]
  },
  {
   "cell_type": "code",
   "execution_count": 8,
   "metadata": {
    "ExecuteTime": {
     "end_time": "2019-04-19T07:19:48.678635Z",
     "start_time": "2019-04-19T07:19:48.657635Z"
    }
   },
   "outputs": [
    {
     "data": {
      "text/html": [
       "<div>\n",
       "<style scoped>\n",
       "    .dataframe tbody tr th:only-of-type {\n",
       "        vertical-align: middle;\n",
       "    }\n",
       "\n",
       "    .dataframe tbody tr th {\n",
       "        vertical-align: top;\n",
       "    }\n",
       "\n",
       "    .dataframe thead th {\n",
       "        text-align: right;\n",
       "    }\n",
       "</style>\n",
       "<table border=\"1\" class=\"dataframe\">\n",
       "  <thead>\n",
       "    <tr style=\"text-align: right;\">\n",
       "      <th></th>\n",
       "      <th>기준일ID</th>\n",
       "      <th>시간대구분</th>\n",
       "      <th>행정동코드</th>\n",
       "      <th>총생활인구수</th>\n",
       "    </tr>\n",
       "  </thead>\n",
       "  <tbody>\n",
       "    <tr>\n",
       "      <th>0</th>\n",
       "      <td>20180701</td>\n",
       "      <td>0</td>\n",
       "      <td>11215760</td>\n",
       "      <td>19006.4504</td>\n",
       "    </tr>\n",
       "    <tr>\n",
       "      <th>1</th>\n",
       "      <td>20180701</td>\n",
       "      <td>0</td>\n",
       "      <td>11710632</td>\n",
       "      <td>30437.2743</td>\n",
       "    </tr>\n",
       "    <tr>\n",
       "      <th>2</th>\n",
       "      <td>20180701</td>\n",
       "      <td>0</td>\n",
       "      <td>11590630</td>\n",
       "      <td>38560.4198</td>\n",
       "    </tr>\n",
       "    <tr>\n",
       "      <th>3</th>\n",
       "      <td>20180701</td>\n",
       "      <td>0</td>\n",
       "      <td>11590660</td>\n",
       "      <td>43559.7821</td>\n",
       "    </tr>\n",
       "    <tr>\n",
       "      <th>4</th>\n",
       "      <td>20180701</td>\n",
       "      <td>0</td>\n",
       "      <td>11590650</td>\n",
       "      <td>16676.7655</td>\n",
       "    </tr>\n",
       "  </tbody>\n",
       "</table>\n",
       "</div>"
      ],
      "text/plain": [
       "      기준일ID 시간대구분     행정동코드      총생활인구수\n",
       "0  20180701     0  11215760  19006.4504\n",
       "1  20180701     0  11710632  30437.2743\n",
       "2  20180701     0  11590630  38560.4198\n",
       "3  20180701     0  11590660  43559.7821\n",
       "4  20180701     0  11590650  16676.7655"
      ]
     },
     "execution_count": 8,
     "metadata": {},
     "output_type": "execute_result"
    }
   ],
   "source": [
    "df.head(5)"
   ]
  },
  {
   "cell_type": "code",
   "execution_count": 9,
   "metadata": {
    "ExecuteTime": {
     "end_time": "2019-04-19T07:20:22.416635Z",
     "start_time": "2019-04-19T07:20:22.404635Z"
    }
   },
   "outputs": [
    {
     "data": {
      "text/plain": [
       "기준일ID       20180701\n",
       "시간대구분              0\n",
       "행정동코드       11710632\n",
       "총생활인구수    30437.2743\n",
       "Name: 1, dtype: object"
      ]
     },
     "execution_count": 9,
     "metadata": {},
     "output_type": "execute_result"
    }
   ],
   "source": [
    "df.iloc[1]"
   ]
  },
  {
   "cell_type": "code",
   "execution_count": 10,
   "metadata": {
    "ExecuteTime": {
     "end_time": "2019-04-19T07:21:56.463635Z",
     "start_time": "2019-04-19T07:21:56.364635Z"
    }
   },
   "outputs": [],
   "source": [
    "df = df.reset_index()"
   ]
  },
  {
   "cell_type": "code",
   "execution_count": null,
   "metadata": {},
   "outputs": [],
   "source": []
  },
  {
   "cell_type": "code",
   "execution_count": 11,
   "metadata": {
    "ExecuteTime": {
     "end_time": "2019-04-19T07:22:25.697635Z",
     "start_time": "2019-04-19T07:22:25.686635Z"
    }
   },
   "outputs": [
    {
     "data": {
      "text/plain": [
       "index              0\n",
       "기준일ID       20180701\n",
       "시간대구분              0\n",
       "행정동코드       11215760\n",
       "총생활인구수    19006.4504\n",
       "Name: 0, dtype: object"
      ]
     },
     "execution_count": 11,
     "metadata": {},
     "output_type": "execute_result"
    }
   ],
   "source": [
    "df.loc[0]"
   ]
  },
  {
   "cell_type": "code",
   "execution_count": 12,
   "metadata": {
    "ExecuteTime": {
     "end_time": "2019-04-19T07:45:20.265635Z",
     "start_time": "2019-04-19T07:45:19.920635Z"
    },
    "scrolled": true
   },
   "outputs": [
    {
     "data": {
      "text/html": [
       "<div>\n",
       "<style scoped>\n",
       "    .dataframe tbody tr th:only-of-type {\n",
       "        vertical-align: middle;\n",
       "    }\n",
       "\n",
       "    .dataframe tbody tr th {\n",
       "        vertical-align: top;\n",
       "    }\n",
       "\n",
       "    .dataframe thead th {\n",
       "        text-align: right;\n",
       "    }\n",
       "</style>\n",
       "<table border=\"1\" class=\"dataframe\">\n",
       "  <thead>\n",
       "    <tr style=\"text-align: right;\">\n",
       "      <th></th>\n",
       "      <th>index</th>\n",
       "    </tr>\n",
       "    <tr>\n",
       "      <th>기준일ID</th>\n",
       "      <th></th>\n",
       "    </tr>\n",
       "  </thead>\n",
       "  <tbody>\n",
       "    <tr>\n",
       "      <th>20180701</th>\n",
       "      <td>5087.5</td>\n",
       "    </tr>\n",
       "    <tr>\n",
       "      <th>20180702</th>\n",
       "      <td>15263.5</td>\n",
       "    </tr>\n",
       "    <tr>\n",
       "      <th>20180703</th>\n",
       "      <td>25439.5</td>\n",
       "    </tr>\n",
       "    <tr>\n",
       "      <th>20180704</th>\n",
       "      <td>35615.5</td>\n",
       "    </tr>\n",
       "    <tr>\n",
       "      <th>20180705</th>\n",
       "      <td>45791.5</td>\n",
       "    </tr>\n",
       "    <tr>\n",
       "      <th>20180706</th>\n",
       "      <td>55967.5</td>\n",
       "    </tr>\n",
       "    <tr>\n",
       "      <th>20180707</th>\n",
       "      <td>66143.5</td>\n",
       "    </tr>\n",
       "    <tr>\n",
       "      <th>20180708</th>\n",
       "      <td>76319.5</td>\n",
       "    </tr>\n",
       "    <tr>\n",
       "      <th>20180709</th>\n",
       "      <td>86495.5</td>\n",
       "    </tr>\n",
       "    <tr>\n",
       "      <th>20180710</th>\n",
       "      <td>96671.5</td>\n",
       "    </tr>\n",
       "    <tr>\n",
       "      <th>20180711</th>\n",
       "      <td>106847.5</td>\n",
       "    </tr>\n",
       "    <tr>\n",
       "      <th>20180712</th>\n",
       "      <td>117023.5</td>\n",
       "    </tr>\n",
       "    <tr>\n",
       "      <th>20180713</th>\n",
       "      <td>127199.5</td>\n",
       "    </tr>\n",
       "    <tr>\n",
       "      <th>20180714</th>\n",
       "      <td>137375.5</td>\n",
       "    </tr>\n",
       "    <tr>\n",
       "      <th>20180715</th>\n",
       "      <td>147551.5</td>\n",
       "    </tr>\n",
       "    <tr>\n",
       "      <th>20180716</th>\n",
       "      <td>157727.5</td>\n",
       "    </tr>\n",
       "    <tr>\n",
       "      <th>20180717</th>\n",
       "      <td>167903.5</td>\n",
       "    </tr>\n",
       "    <tr>\n",
       "      <th>20180718</th>\n",
       "      <td>178079.5</td>\n",
       "    </tr>\n",
       "    <tr>\n",
       "      <th>20180719</th>\n",
       "      <td>188255.5</td>\n",
       "    </tr>\n",
       "    <tr>\n",
       "      <th>20180720</th>\n",
       "      <td>198431.5</td>\n",
       "    </tr>\n",
       "    <tr>\n",
       "      <th>20180721</th>\n",
       "      <td>208607.5</td>\n",
       "    </tr>\n",
       "    <tr>\n",
       "      <th>20180722</th>\n",
       "      <td>218783.5</td>\n",
       "    </tr>\n",
       "    <tr>\n",
       "      <th>20180723</th>\n",
       "      <td>228959.5</td>\n",
       "    </tr>\n",
       "    <tr>\n",
       "      <th>20180724</th>\n",
       "      <td>239135.5</td>\n",
       "    </tr>\n",
       "    <tr>\n",
       "      <th>20180725</th>\n",
       "      <td>249311.5</td>\n",
       "    </tr>\n",
       "    <tr>\n",
       "      <th>20180726</th>\n",
       "      <td>259487.5</td>\n",
       "    </tr>\n",
       "    <tr>\n",
       "      <th>20180727</th>\n",
       "      <td>269663.5</td>\n",
       "    </tr>\n",
       "    <tr>\n",
       "      <th>20180728</th>\n",
       "      <td>279839.5</td>\n",
       "    </tr>\n",
       "    <tr>\n",
       "      <th>20180729</th>\n",
       "      <td>290015.5</td>\n",
       "    </tr>\n",
       "    <tr>\n",
       "      <th>20180730</th>\n",
       "      <td>300191.5</td>\n",
       "    </tr>\n",
       "    <tr>\n",
       "      <th>...</th>\n",
       "      <td>...</td>\n",
       "    </tr>\n",
       "    <tr>\n",
       "      <th>20181121</th>\n",
       "      <td>208607.5</td>\n",
       "    </tr>\n",
       "    <tr>\n",
       "      <th>20181122</th>\n",
       "      <td>218783.5</td>\n",
       "    </tr>\n",
       "    <tr>\n",
       "      <th>20181201</th>\n",
       "      <td>5087.5</td>\n",
       "    </tr>\n",
       "    <tr>\n",
       "      <th>20181202</th>\n",
       "      <td>15263.5</td>\n",
       "    </tr>\n",
       "    <tr>\n",
       "      <th>20181203</th>\n",
       "      <td>25439.5</td>\n",
       "    </tr>\n",
       "    <tr>\n",
       "      <th>20181204</th>\n",
       "      <td>35615.5</td>\n",
       "    </tr>\n",
       "    <tr>\n",
       "      <th>20181205</th>\n",
       "      <td>45791.5</td>\n",
       "    </tr>\n",
       "    <tr>\n",
       "      <th>20181206</th>\n",
       "      <td>55967.5</td>\n",
       "    </tr>\n",
       "    <tr>\n",
       "      <th>20181207</th>\n",
       "      <td>66143.5</td>\n",
       "    </tr>\n",
       "    <tr>\n",
       "      <th>20181208</th>\n",
       "      <td>76319.5</td>\n",
       "    </tr>\n",
       "    <tr>\n",
       "      <th>20181209</th>\n",
       "      <td>86495.5</td>\n",
       "    </tr>\n",
       "    <tr>\n",
       "      <th>20181210</th>\n",
       "      <td>96671.5</td>\n",
       "    </tr>\n",
       "    <tr>\n",
       "      <th>20181211</th>\n",
       "      <td>106847.5</td>\n",
       "    </tr>\n",
       "    <tr>\n",
       "      <th>20181212</th>\n",
       "      <td>117023.5</td>\n",
       "    </tr>\n",
       "    <tr>\n",
       "      <th>20181213</th>\n",
       "      <td>127199.5</td>\n",
       "    </tr>\n",
       "    <tr>\n",
       "      <th>20181214</th>\n",
       "      <td>137375.5</td>\n",
       "    </tr>\n",
       "    <tr>\n",
       "      <th>20181215</th>\n",
       "      <td>147551.5</td>\n",
       "    </tr>\n",
       "    <tr>\n",
       "      <th>20181216</th>\n",
       "      <td>157727.5</td>\n",
       "    </tr>\n",
       "    <tr>\n",
       "      <th>20181217</th>\n",
       "      <td>167903.5</td>\n",
       "    </tr>\n",
       "    <tr>\n",
       "      <th>20181218</th>\n",
       "      <td>178079.5</td>\n",
       "    </tr>\n",
       "    <tr>\n",
       "      <th>20181219</th>\n",
       "      <td>188255.5</td>\n",
       "    </tr>\n",
       "    <tr>\n",
       "      <th>20181220</th>\n",
       "      <td>198431.5</td>\n",
       "    </tr>\n",
       "    <tr>\n",
       "      <th>20181221</th>\n",
       "      <td>208607.5</td>\n",
       "    </tr>\n",
       "    <tr>\n",
       "      <th>20181222</th>\n",
       "      <td>218783.5</td>\n",
       "    </tr>\n",
       "    <tr>\n",
       "      <th>20181223</th>\n",
       "      <td>228959.5</td>\n",
       "    </tr>\n",
       "    <tr>\n",
       "      <th>20181227</th>\n",
       "      <td>239135.5</td>\n",
       "    </tr>\n",
       "    <tr>\n",
       "      <th>20181228</th>\n",
       "      <td>249311.5</td>\n",
       "    </tr>\n",
       "    <tr>\n",
       "      <th>20181229</th>\n",
       "      <td>259487.5</td>\n",
       "    </tr>\n",
       "    <tr>\n",
       "      <th>20181230</th>\n",
       "      <td>269663.5</td>\n",
       "    </tr>\n",
       "    <tr>\n",
       "      <th>20181231</th>\n",
       "      <td>279839.5</td>\n",
       "    </tr>\n",
       "  </tbody>\n",
       "</table>\n",
       "<p>168 rows × 1 columns</p>\n",
       "</div>"
      ],
      "text/plain": [
       "             index\n",
       "기준일ID             \n",
       "20180701    5087.5\n",
       "20180702   15263.5\n",
       "20180703   25439.5\n",
       "20180704   35615.5\n",
       "20180705   45791.5\n",
       "20180706   55967.5\n",
       "20180707   66143.5\n",
       "20180708   76319.5\n",
       "20180709   86495.5\n",
       "20180710   96671.5\n",
       "20180711  106847.5\n",
       "20180712  117023.5\n",
       "20180713  127199.5\n",
       "20180714  137375.5\n",
       "20180715  147551.5\n",
       "20180716  157727.5\n",
       "20180717  167903.5\n",
       "20180718  178079.5\n",
       "20180719  188255.5\n",
       "20180720  198431.5\n",
       "20180721  208607.5\n",
       "20180722  218783.5\n",
       "20180723  228959.5\n",
       "20180724  239135.5\n",
       "20180725  249311.5\n",
       "20180726  259487.5\n",
       "20180727  269663.5\n",
       "20180728  279839.5\n",
       "20180729  290015.5\n",
       "20180730  300191.5\n",
       "...            ...\n",
       "20181121  208607.5\n",
       "20181122  218783.5\n",
       "20181201    5087.5\n",
       "20181202   15263.5\n",
       "20181203   25439.5\n",
       "20181204   35615.5\n",
       "20181205   45791.5\n",
       "20181206   55967.5\n",
       "20181207   66143.5\n",
       "20181208   76319.5\n",
       "20181209   86495.5\n",
       "20181210   96671.5\n",
       "20181211  106847.5\n",
       "20181212  117023.5\n",
       "20181213  127199.5\n",
       "20181214  137375.5\n",
       "20181215  147551.5\n",
       "20181216  157727.5\n",
       "20181217  167903.5\n",
       "20181218  178079.5\n",
       "20181219  188255.5\n",
       "20181220  198431.5\n",
       "20181221  208607.5\n",
       "20181222  218783.5\n",
       "20181223  228959.5\n",
       "20181227  239135.5\n",
       "20181228  249311.5\n",
       "20181229  259487.5\n",
       "20181230  269663.5\n",
       "20181231  279839.5\n",
       "\n",
       "[168 rows x 1 columns]"
      ]
     },
     "execution_count": 12,
     "metadata": {},
     "output_type": "execute_result"
    }
   ],
   "source": [
    "df.groupby(['기준일ID']).mean()"
   ]
  },
  {
   "cell_type": "markdown",
   "metadata": {},
   "source": [
    "## 데이터 분할(열기준)"
   ]
  },
  {
   "cell_type": "code",
   "execution_count": 13,
   "metadata": {
    "ExecuteTime": {
     "end_time": "2019-04-19T07:00:56.282635Z",
     "start_time": "2019-04-19T07:00:48.704635Z"
    },
    "scrolled": true
   },
   "outputs": [
    {
     "name": "stdout",
     "output_type": "stream",
     "text": [
      "      기준일ID 시간대구분     행정동코드      총생활인구수\n",
      "0  20180701     0  11215760  19006.4504\n",
      "1  20180701     0  11710632  30437.2743\n",
      "2  20180701     0  11590630  38560.4198\n",
      "3  20180701     0  11590660  43559.7821\n",
      "4  20180701     0  11590650  16676.7655\n",
      "      기준일ID 시간대구분     행정동코드      총생활인구수\n",
      "0  20180801     0  11110710  13724.4866\n",
      "1  20180801     0  11110680   9403.0757\n",
      "2  20180801     0  11545630  23021.2929\n",
      "3  20180801     0  11650570  22960.1814\n",
      "4  20180801     0  11680650  38987.8375\n",
      "      기준일ID 시간대구분     행정동코드      총생활인구수\n",
      "0  20180901     0  11110515  13976.7333\n",
      "1  20180901     0  11110530  17531.9424\n",
      "2  20180901     0  11110540   4562.9781\n",
      "3  20180901     0  11110550  12737.1668\n",
      "4  20180901     0  11110560  23056.2094\n",
      "      기준일ID 시간대구분     행정동코드      총생활인구수\n",
      "0  20181001     0  11320511  25354.5457\n",
      "1  20181001     0  11140635  18969.1407\n",
      "2  20181001     0  11620645  28319.0418\n",
      "3  20181001     0  11215770  35403.5017\n",
      "4  20181001     0  11560670   7932.3008\n",
      "      기준일ID 시간대구분     행정동코드      총생활인구수\n",
      "0  20181101     0  11110515  14799.0314\n",
      "1  20181101     0  11110540   5072.4639\n",
      "2  20181101     0  11110550  13510.7258\n",
      "3  20181101     0  11110560  22047.6664\n",
      "4  20181101     0  11170530  10764.3579\n",
      "      기준일ID 시간대구분     행정동코드      총생활인구수\n",
      "0  20181201     0  11110515  14201.5525\n",
      "1  20181201     0  11110530  17779.8374\n",
      "2  20181201     0  11110540   4342.5397\n",
      "3  20181201     0  11110550  13647.2016\n",
      "4  20181201     0  11110560  21383.3683\n"
     ]
    }
   ],
   "source": [
    "df = [ pd.DataFrame(),pd.DataFrame(),pd.DataFrame(),pd.DataFrame(),pd.DataFrame(),pd.DataFrame()]\n",
    "list_name = ['7.csv', '8.csv', '9.csv', '10.csv', '11.csv', '12.csv' ]\n",
    "for i,name in enumerate(list_name):\n",
    "    df[i] = pd.read_csv(name, header='infer',encoding='latin1', index_col=False)\n",
    "    df[i].columns = ['col']\n",
    "    df[i][['기준일ID','시간대구분', '행정동코드', '총생활인구수']] = df[i].col.str.split(\"\\t\",expand=True)\n",
    "    df[i] = df[i].drop(['col'], axis=1)\n",
    "    print(df[i].head(5))"
   ]
  },
  {
   "cell_type": "markdown",
   "metadata": {},
   "source": [
    "### append"
   ]
  },
  {
   "cell_type": "code",
   "execution_count": 14,
   "metadata": {
    "ExecuteTime": {
     "end_time": "2019-04-19T07:00:59.802635Z",
     "start_time": "2019-04-19T07:00:59.796635Z"
    }
   },
   "outputs": [
    {
     "data": {
      "text/plain": [
       "(315456, 4)"
      ]
     },
     "execution_count": 14,
     "metadata": {},
     "output_type": "execute_result"
    }
   ],
   "source": [
    "df[0].shape"
   ]
  },
  {
   "cell_type": "code",
   "execution_count": 15,
   "metadata": {
    "ExecuteTime": {
     "end_time": "2019-04-19T07:01:00.970635Z",
     "start_time": "2019-04-19T07:01:00.839635Z"
    }
   },
   "outputs": [],
   "source": [
    "result = df[0].append(df[1])"
   ]
  },
  {
   "cell_type": "code",
   "execution_count": 16,
   "metadata": {
    "ExecuteTime": {
     "end_time": "2019-04-19T07:01:01.777635Z",
     "start_time": "2019-04-19T07:01:01.678635Z"
    }
   },
   "outputs": [],
   "source": [
    "result = result.append(df[2])"
   ]
  },
  {
   "cell_type": "code",
   "execution_count": 17,
   "metadata": {
    "ExecuteTime": {
     "end_time": "2019-04-19T07:01:02.394635Z",
     "start_time": "2019-04-19T07:01:02.268635Z"
    }
   },
   "outputs": [],
   "source": [
    "result = result.append(df[3])"
   ]
  },
  {
   "cell_type": "code",
   "execution_count": 18,
   "metadata": {
    "ExecuteTime": {
     "end_time": "2019-04-19T07:01:03.255635Z",
     "start_time": "2019-04-19T07:01:03.103635Z"
    }
   },
   "outputs": [],
   "source": [
    "result = result.append(df[4])"
   ]
  },
  {
   "cell_type": "code",
   "execution_count": 19,
   "metadata": {
    "ExecuteTime": {
     "end_time": "2019-04-19T07:01:04.871635Z",
     "start_time": "2019-04-19T07:01:04.544635Z"
    }
   },
   "outputs": [],
   "source": [
    "df_result = result.append(df[5])"
   ]
  },
  {
   "cell_type": "code",
   "execution_count": 20,
   "metadata": {
    "ExecuteTime": {
     "end_time": "2019-04-19T07:01:17.742635Z",
     "start_time": "2019-04-19T07:01:17.734635Z"
    }
   },
   "outputs": [
    {
     "data": {
      "text/plain": [
       "(1709568, 4)"
      ]
     },
     "execution_count": 20,
     "metadata": {},
     "output_type": "execute_result"
    }
   ],
   "source": [
    "df_result.shape"
   ]
  },
  {
   "cell_type": "code",
   "execution_count": 21,
   "metadata": {
    "ExecuteTime": {
     "end_time": "2019-04-19T07:01:32.329635Z",
     "start_time": "2019-04-19T07:01:32.317635Z"
    }
   },
   "outputs": [
    {
     "data": {
      "text/html": [
       "<div>\n",
       "<style scoped>\n",
       "    .dataframe tbody tr th:only-of-type {\n",
       "        vertical-align: middle;\n",
       "    }\n",
       "\n",
       "    .dataframe tbody tr th {\n",
       "        vertical-align: top;\n",
       "    }\n",
       "\n",
       "    .dataframe thead th {\n",
       "        text-align: right;\n",
       "    }\n",
       "</style>\n",
       "<table border=\"1\" class=\"dataframe\">\n",
       "  <thead>\n",
       "    <tr style=\"text-align: right;\">\n",
       "      <th></th>\n",
       "      <th>기준일ID</th>\n",
       "      <th>시간대구분</th>\n",
       "      <th>행정동코드</th>\n",
       "      <th>총생활인구수</th>\n",
       "    </tr>\n",
       "  </thead>\n",
       "  <tbody>\n",
       "    <tr>\n",
       "      <th>0</th>\n",
       "      <td>20180701</td>\n",
       "      <td>0</td>\n",
       "      <td>11215760</td>\n",
       "      <td>19006.4504</td>\n",
       "    </tr>\n",
       "    <tr>\n",
       "      <th>1</th>\n",
       "      <td>20180701</td>\n",
       "      <td>0</td>\n",
       "      <td>11710632</td>\n",
       "      <td>30437.2743</td>\n",
       "    </tr>\n",
       "    <tr>\n",
       "      <th>2</th>\n",
       "      <td>20180701</td>\n",
       "      <td>0</td>\n",
       "      <td>11590630</td>\n",
       "      <td>38560.4198</td>\n",
       "    </tr>\n",
       "    <tr>\n",
       "      <th>3</th>\n",
       "      <td>20180701</td>\n",
       "      <td>0</td>\n",
       "      <td>11590660</td>\n",
       "      <td>43559.7821</td>\n",
       "    </tr>\n",
       "    <tr>\n",
       "      <th>4</th>\n",
       "      <td>20180701</td>\n",
       "      <td>0</td>\n",
       "      <td>11590650</td>\n",
       "      <td>16676.7655</td>\n",
       "    </tr>\n",
       "  </tbody>\n",
       "</table>\n",
       "</div>"
      ],
      "text/plain": [
       "      기준일ID 시간대구분     행정동코드      총생활인구수\n",
       "0  20180701     0  11215760  19006.4504\n",
       "1  20180701     0  11710632  30437.2743\n",
       "2  20180701     0  11590630  38560.4198\n",
       "3  20180701     0  11590660  43559.7821\n",
       "4  20180701     0  11590650  16676.7655"
      ]
     },
     "execution_count": 21,
     "metadata": {},
     "output_type": "execute_result"
    }
   ],
   "source": [
    "df_result.head()"
   ]
  },
  {
   "cell_type": "code",
   "execution_count": 22,
   "metadata": {},
   "outputs": [],
   "source": [
    "df_result.to_csv('dong_code.csv',index=False, header=True)"
   ]
  },
  {
   "cell_type": "code",
   "execution_count": null,
   "metadata": {},
   "outputs": [],
   "source": [
    "df = read"
   ]
  },
  {
   "cell_type": "code",
   "execution_count": null,
   "metadata": {},
   "outputs": [],
   "source": []
  },
  {
   "cell_type": "code",
   "execution_count": null,
   "metadata": {},
   "outputs": [],
   "source": []
  },
  {
   "cell_type": "code",
   "execution_count": null,
   "metadata": {},
   "outputs": [],
   "source": []
  }
 ],
 "metadata": {
  "kernelspec": {
   "display_name": "Python 3",
   "language": "python",
   "name": "python3"
  },
  "language_info": {
   "codemirror_mode": {
    "name": "ipython",
    "version": 3
   },
   "file_extension": ".py",
   "mimetype": "text/x-python",
   "name": "python",
   "nbconvert_exporter": "python",
   "pygments_lexer": "ipython3",
   "version": "3.6.5"
  },
  "toc": {
   "base_numbering": 1,
   "nav_menu": {},
   "number_sections": true,
   "sideBar": true,
   "skip_h1_title": false,
   "title_cell": "Table of Contents",
   "title_sidebar": "Contents",
   "toc_cell": false,
   "toc_position": {},
   "toc_section_display": true,
   "toc_window_display": false
  },
  "varInspector": {
   "cols": {
    "lenName": 16,
    "lenType": 16,
    "lenVar": 40
   },
   "kernels_config": {
    "python": {
     "delete_cmd_postfix": "",
     "delete_cmd_prefix": "del ",
     "library": "var_list.py",
     "varRefreshCmd": "print(var_dic_list())"
    },
    "r": {
     "delete_cmd_postfix": ") ",
     "delete_cmd_prefix": "rm(",
     "library": "var_list.r",
     "varRefreshCmd": "cat(var_dic_list()) "
    }
   },
   "types_to_exclude": [
    "module",
    "function",
    "builtin_function_or_method",
    "instance",
    "_Feature"
   ],
   "window_display": false
  }
 },
 "nbformat": 4,
 "nbformat_minor": 2
}
